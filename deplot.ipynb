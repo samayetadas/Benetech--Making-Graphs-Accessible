{
 "cells": [
  {
   "cell_type": "code",
   "execution_count": 1,
   "id": "4900ebb2",
   "metadata": {
    "execution": {
     "iopub.execute_input": "2023-06-03T20:05:05.736811Z",
     "iopub.status.busy": "2023-06-03T20:05:05.736039Z",
     "iopub.status.idle": "2023-06-03T20:05:06.691795Z",
     "shell.execute_reply": "2023-06-03T20:05:06.690575Z"
    },
    "papermill": {
     "duration": 0.96591,
     "end_time": "2023-06-03T20:05:06.694428",
     "exception": false,
     "start_time": "2023-06-03T20:05:05.728518",
     "status": "completed"
    },
    "tags": []
   },
   "outputs": [
    {
     "name": "stdout",
     "output_type": "stream",
     "text": [
      "PyYAML-6.0-cp310-cp310-manylinux_2_5_x86_64.manylinux1_x86_64.manylinux_2_12_x86_64.manylinux2010_x86_64.whl\r\n",
      "certifi-2023.5.7-py3-none-any.whl\r\n",
      "charset_normalizer-3.1.0-cp310-cp310-manylinux_2_17_x86_64.manylinux2014_x86_64.whl\r\n",
      "filelock-3.12.0-py3-none-any.whl\r\n",
      "fsspec-2023.5.0-py3-none-any.whl\r\n",
      "huggingface_hub-0.15.1-py3-none-any.whl\r\n",
      "idna-3.4-py3-none-any.whl\r\n",
      "numpy-1.24.3-cp310-cp310-manylinux_2_17_x86_64.manylinux2014_x86_64.whl\r\n",
      "packaging-23.1-py3-none-any.whl\r\n",
      "regex-2023.6.3-cp310-cp310-manylinux_2_17_x86_64.manylinux2014_x86_64.whl\r\n",
      "requests-2.31.0-py3-none-any.whl\r\n",
      "safetensors-0.3.1-cp310-cp310-manylinux_2_17_x86_64.manylinux2014_x86_64.whl\r\n",
      "tokenizers-0.13.3-cp310-cp310-manylinux_2_17_x86_64.manylinux2014_x86_64.whl\r\n",
      "tqdm-4.65.0-py3-none-any.whl\r\n",
      "transformers-4.30.0.dev0.zip\r\n",
      "typing_extensions-4.6.3-py3-none-any.whl\r\n",
      "urllib3-2.0.2-py3-none-any.whl\r\n"
     ]
    }
   ],
   "source": [
    "! ls /kaggle/input/transformer-models/transformers"
   ]
  },
  {
   "cell_type": "code",
   "execution_count": 2,
   "id": "599673bd",
   "metadata": {
    "execution": {
     "iopub.execute_input": "2023-06-03T20:05:06.707492Z",
     "iopub.status.busy": "2023-06-03T20:05:06.706527Z",
     "iopub.status.idle": "2023-06-03T20:05:18.553237Z",
     "shell.execute_reply": "2023-06-03T20:05:18.552040Z"
    },
    "papermill": {
     "duration": 11.856091,
     "end_time": "2023-06-03T20:05:18.556046",
     "exception": false,
     "start_time": "2023-06-03T20:05:06.699955",
     "status": "completed"
    },
    "tags": []
   },
   "outputs": [
    {
     "name": "stdout",
     "output_type": "stream",
     "text": [
      "Looking in links: file:///kaggle/input/transformer-models/transformers/\r\n",
      "Requirement already satisfied: transformers in /opt/conda/lib/python3.10/site-packages (4.29.2)\r\n",
      "Requirement already satisfied: filelock in /opt/conda/lib/python3.10/site-packages (from transformers) (3.12.0)\r\n",
      "Requirement already satisfied: huggingface-hub<1.0,>=0.14.1 in /opt/conda/lib/python3.10/site-packages (from transformers) (0.14.1)\r\n",
      "Requirement already satisfied: numpy>=1.17 in /opt/conda/lib/python3.10/site-packages (from transformers) (1.23.5)\r\n",
      "Requirement already satisfied: packaging>=20.0 in /opt/conda/lib/python3.10/site-packages (from transformers) (21.3)\r\n",
      "Requirement already satisfied: pyyaml>=5.1 in /opt/conda/lib/python3.10/site-packages (from transformers) (5.4.1)\r\n",
      "Requirement already satisfied: regex!=2019.12.17 in /opt/conda/lib/python3.10/site-packages (from transformers) (2023.5.5)\r\n",
      "Requirement already satisfied: requests in /opt/conda/lib/python3.10/site-packages (from transformers) (2.28.2)\r\n",
      "Requirement already satisfied: tokenizers!=0.11.3,<0.14,>=0.11.1 in /opt/conda/lib/python3.10/site-packages (from transformers) (0.13.3)\r\n",
      "Requirement already satisfied: tqdm>=4.27 in /opt/conda/lib/python3.10/site-packages (from transformers) (4.64.1)\r\n",
      "Requirement already satisfied: fsspec in /opt/conda/lib/python3.10/site-packages (from huggingface-hub<1.0,>=0.14.1->transformers) (2023.5.0)\r\n",
      "Requirement already satisfied: typing-extensions>=3.7.4.3 in /opt/conda/lib/python3.10/site-packages (from huggingface-hub<1.0,>=0.14.1->transformers) (4.5.0)\r\n",
      "Requirement already satisfied: pyparsing!=3.0.5,>=2.0.2 in /opt/conda/lib/python3.10/site-packages (from packaging>=20.0->transformers) (3.0.9)\r\n",
      "Requirement already satisfied: charset-normalizer<4,>=2 in /opt/conda/lib/python3.10/site-packages (from requests->transformers) (2.1.1)\r\n",
      "Requirement already satisfied: idna<4,>=2.5 in /opt/conda/lib/python3.10/site-packages (from requests->transformers) (3.4)\r\n",
      "Requirement already satisfied: urllib3<1.27,>=1.21.1 in /opt/conda/lib/python3.10/site-packages (from requests->transformers) (1.26.15)\r\n",
      "Requirement already satisfied: certifi>=2017.4.17 in /opt/conda/lib/python3.10/site-packages (from requests->transformers) (2023.5.7)\r\n",
      "\u001b[33mWARNING: Running pip as the 'root' user can result in broken permissions and conflicting behaviour with the system package manager. It is recommended to use a virtual environment instead: https://pip.pypa.io/warnings/venv\u001b[0m\u001b[33m\r\n",
      "\u001b[0m"
     ]
    }
   ],
   "source": [
    "!pip install transformers --no-index --find-links=file:///kaggle/input/transformer-models/transformers/"
   ]
  },
  {
   "cell_type": "code",
   "execution_count": 3,
   "id": "26a8c2db",
   "metadata": {
    "execution": {
     "iopub.execute_input": "2023-06-03T20:05:18.569267Z",
     "iopub.status.busy": "2023-06-03T20:05:18.568920Z",
     "iopub.status.idle": "2023-06-03T20:05:31.438523Z",
     "shell.execute_reply": "2023-06-03T20:05:31.437589Z"
    },
    "papermill": {
     "duration": 12.878903,
     "end_time": "2023-06-03T20:05:31.440939",
     "exception": false,
     "start_time": "2023-06-03T20:05:18.562036",
     "status": "completed"
    },
    "tags": []
   },
   "outputs": [
    {
     "name": "stderr",
     "output_type": "stream",
     "text": [
      "/opt/conda/lib/python3.10/site-packages/tensorflow_io/python/ops/__init__.py:98: UserWarning: unable to load libtensorflow_io_plugins.so: unable to open file: libtensorflow_io_plugins.so, from paths: ['/opt/conda/lib/python3.10/site-packages/tensorflow_io/python/ops/libtensorflow_io_plugins.so']\n",
      "caused by: ['/opt/conda/lib/python3.10/site-packages/tensorflow_io/python/ops/libtensorflow_io_plugins.so: undefined symbol: _ZN3tsl6StatusC1EN10tensorflow5error4CodeESt17basic_string_viewIcSt11char_traitsIcEENS_14SourceLocationE']\n",
      "  warnings.warn(f\"unable to load libtensorflow_io_plugins.so: {e}\")\n",
      "/opt/conda/lib/python3.10/site-packages/tensorflow_io/python/ops/__init__.py:104: UserWarning: file system plugins are not loaded: unable to open file: libtensorflow_io.so, from paths: ['/opt/conda/lib/python3.10/site-packages/tensorflow_io/python/ops/libtensorflow_io.so']\n",
      "caused by: ['/opt/conda/lib/python3.10/site-packages/tensorflow_io/python/ops/libtensorflow_io.so: undefined symbol: _ZTVN10tensorflow13GcsFileSystemE']\n",
      "  warnings.warn(f\"file system plugins are not loaded: {e}\")\n"
     ]
    }
   ],
   "source": [
    "import pandas as pd\n",
    "import io\n",
    "import torch\n",
    "from transformers import Pix2StructForConditionalGeneration, Pix2StructProcessor\n",
    "import requests\n",
    "from PIL import Image\n",
    "import re"
   ]
  },
  {
   "cell_type": "code",
   "execution_count": 4,
   "id": "8ef36165",
   "metadata": {
    "execution": {
     "iopub.execute_input": "2023-06-03T20:05:31.454373Z",
     "iopub.status.busy": "2023-06-03T20:05:31.454035Z",
     "iopub.status.idle": "2023-06-03T20:05:31.464313Z",
     "shell.execute_reply": "2023-06-03T20:05:31.463233Z"
    },
    "papermill": {
     "duration": 0.019295,
     "end_time": "2023-06-03T20:05:31.466399",
     "exception": false,
     "start_time": "2023-06-03T20:05:31.447104",
     "status": "completed"
    },
    "tags": []
   },
   "outputs": [],
   "source": [
    "def display_deplot_output(deplot_output, visualize=True):\n",
    "    '''\n",
    "    The raw output of deplot\n",
    "    TITLE | Rural population (%) long-run with 2050 projections<0x0A>(OWID) in Greece<0x0A>Years | Rural population<0x0A>1940 | 47.38<0x0A>1960 | 43.68<0x0A>1980 | 30.28<0x0A>...\n",
    "    '''\n",
    "    \n",
    "    deplot_output = deplot_output.replace(\"<0x0A>\", \"\\n\").replace(\" | \", \"\\t\")\n",
    "\n",
    "    second_a_index = [m.start() for m in re.finditer('\\t', deplot_output)][1]\n",
    "    last_newline_index = deplot_output.rfind('\\n', 0, second_a_index) \n",
    "\n",
    "    title = deplot_output[:last_newline_index]\n",
    "    table = deplot_output[last_newline_index+1:]\n",
    "\n",
    "    data = io.StringIO(table)\n",
    "    df = pd.read_csv(data, sep='\\t')\n",
    "    if visualize:\n",
    "        display(df)\n",
    "    \n",
    "    return df\n",
    "    \n",
    "\n",
    "def deplot(path, model, processor, device, visualize=True):\n",
    "\n",
    "    image = Image.open(path)\n",
    "    \n",
    "    if visualize:\n",
    "        display(image)\n",
    "    #problem is here\n",
    "    inputs = processor(images=image, text=\"Generate underlying data table of the figure below:\", return_tensors=\"pt\")\n",
    "\n",
    "    # Move inputs to GPU\n",
    "    inputs = {key: value.to(device) for key, value in inputs.items()}\n",
    "\n",
    "    predictions = model.generate(**inputs, max_new_tokens=512)\n",
    "    return processor.decode(predictions[0], skip_special_tokens=True)"
   ]
  },
  {
   "cell_type": "code",
   "execution_count": 5,
   "id": "4e18c743",
   "metadata": {
    "execution": {
     "iopub.execute_input": "2023-06-03T20:05:31.479249Z",
     "iopub.status.busy": "2023-06-03T20:05:31.478934Z",
     "iopub.status.idle": "2023-06-03T20:05:50.115896Z",
     "shell.execute_reply": "2023-06-03T20:05:50.114832Z"
    },
    "papermill": {
     "duration": 18.646608,
     "end_time": "2023-06-03T20:05:50.118741",
     "exception": false,
     "start_time": "2023-06-03T20:05:31.472133",
     "status": "completed"
    },
    "tags": []
   },
   "outputs": [],
   "source": [
    "deplot_weights_path = \"/kaggle/input/google-deplot-model\"\n",
    "device = torch.device(\"cuda\" if torch.cuda.is_available() else \"cpu\")\n",
    "deplot_model = Pix2StructForConditionalGeneration.from_pretrained(deplot_weights_path).to(device)\n",
    "processor = Pix2StructProcessor.from_pretrained(deplot_weights_path)"
   ]
  },
  {
   "cell_type": "code",
   "execution_count": 6,
   "id": "80df368c",
   "metadata": {
    "execution": {
     "iopub.execute_input": "2023-06-03T20:05:50.133018Z",
     "iopub.status.busy": "2023-06-03T20:05:50.132675Z",
     "iopub.status.idle": "2023-06-03T20:05:50.139954Z",
     "shell.execute_reply": "2023-06-03T20:05:50.138845Z"
    },
    "papermill": {
     "duration": 0.017763,
     "end_time": "2023-06-03T20:05:50.143453",
     "exception": false,
     "start_time": "2023-06-03T20:05:50.125690",
     "status": "completed"
    },
    "tags": []
   },
   "outputs": [
    {
     "data": {
      "text/plain": [
       "device(type='cuda')"
      ]
     },
     "execution_count": 6,
     "metadata": {},
     "output_type": "execute_result"
    }
   ],
   "source": [
    "device"
   ]
  },
  {
   "cell_type": "code",
   "execution_count": 7,
   "id": "04ac209f",
   "metadata": {
    "execution": {
     "iopub.execute_input": "2023-06-03T20:05:50.157694Z",
     "iopub.status.busy": "2023-06-03T20:05:50.157288Z",
     "iopub.status.idle": "2023-06-03T20:05:50.169150Z",
     "shell.execute_reply": "2023-06-03T20:05:50.167857Z"
    },
    "papermill": {
     "duration": 0.022232,
     "end_time": "2023-06-03T20:05:50.171602",
     "exception": false,
     "start_time": "2023-06-03T20:05:50.149370",
     "status": "completed"
    },
    "tags": []
   },
   "outputs": [
    {
     "data": {
      "text/plain": [
       "Pix2StructForConditionalGeneration(\n",
       "  (encoder): Pix2StructVisionModel(\n",
       "    (embeddings): Pix2StructVisionEmbeddings(\n",
       "      (patch_projection): Linear(in_features=768, out_features=768, bias=True)\n",
       "      (row_embedder): Embedding(4096, 768)\n",
       "      (column_embedder): Embedding(4096, 768)\n",
       "      (dropout): Dropout(p=0.0, inplace=False)\n",
       "    )\n",
       "    (encoder): Pix2StructVisionEncoder(\n",
       "      (layer): ModuleList(\n",
       "        (0-11): 12 x Pix2StructVisionLayer(\n",
       "          (attention): Pix2StructVisionAttention(\n",
       "            (query): Linear(in_features=768, out_features=768, bias=False)\n",
       "            (key): Linear(in_features=768, out_features=768, bias=False)\n",
       "            (value): Linear(in_features=768, out_features=768, bias=False)\n",
       "            (output): Linear(in_features=768, out_features=768, bias=False)\n",
       "          )\n",
       "          (mlp): Pix2StructVisionMlp(\n",
       "            (wi_0): Linear(in_features=768, out_features=2048, bias=False)\n",
       "            (wi_1): Linear(in_features=768, out_features=2048, bias=False)\n",
       "            (wo): Linear(in_features=2048, out_features=768, bias=False)\n",
       "            (dropout): Dropout(p=0.0, inplace=False)\n",
       "            (act): NewGELUActivation()\n",
       "          )\n",
       "          (pre_mlp_layer_norm): Pix2StructLayerNorm()\n",
       "          (pre_attention_layer_norm): Pix2StructLayerNorm()\n",
       "        )\n",
       "      )\n",
       "    )\n",
       "    (layernorm): Pix2StructLayerNorm()\n",
       "  )\n",
       "  (decoder): Pix2StructTextModel(\n",
       "    (embed_tokens): Embedding(50244, 768)\n",
       "    (layer): ModuleList(\n",
       "      (0): Pix2StructTextBlock(\n",
       "        (self_attention): Pix2StructTextLayerSelfAttention(\n",
       "          (attention): Pix2StructTextAttention(\n",
       "            (query): Linear(in_features=768, out_features=768, bias=False)\n",
       "            (key): Linear(in_features=768, out_features=768, bias=False)\n",
       "            (value): Linear(in_features=768, out_features=768, bias=False)\n",
       "            (output): Linear(in_features=768, out_features=768, bias=False)\n",
       "            (relative_attention_bias): Embedding(32, 12)\n",
       "          )\n",
       "          (layer_norm): Pix2StructLayerNorm()\n",
       "          (dropout): Dropout(p=0.1, inplace=False)\n",
       "        )\n",
       "        (encoder_decoder_attention): Pix2StructTextLayerCrossAttention(\n",
       "          (attention): Pix2StructTextAttention(\n",
       "            (query): Linear(in_features=768, out_features=768, bias=False)\n",
       "            (key): Linear(in_features=768, out_features=768, bias=False)\n",
       "            (value): Linear(in_features=768, out_features=768, bias=False)\n",
       "            (output): Linear(in_features=768, out_features=768, bias=False)\n",
       "          )\n",
       "          (layer_norm): Pix2StructLayerNorm()\n",
       "          (dropout): Dropout(p=0.1, inplace=False)\n",
       "        )\n",
       "        (mlp): Pix2StructTextLayerFF(\n",
       "          (DenseReluDense): Pix2StructTextDenseGatedActDense(\n",
       "            (wi_0): Linear(in_features=768, out_features=2048, bias=False)\n",
       "            (wi_1): Linear(in_features=768, out_features=2048, bias=False)\n",
       "            (wo): Linear(in_features=2048, out_features=768, bias=False)\n",
       "            (dropout): Dropout(p=0.1, inplace=False)\n",
       "            (act): NewGELUActivation()\n",
       "          )\n",
       "          (layer_norm): Pix2StructLayerNorm()\n",
       "          (dropout): Dropout(p=0.1, inplace=False)\n",
       "        )\n",
       "      )\n",
       "      (1-11): 11 x Pix2StructTextBlock(\n",
       "        (self_attention): Pix2StructTextLayerSelfAttention(\n",
       "          (attention): Pix2StructTextAttention(\n",
       "            (query): Linear(in_features=768, out_features=768, bias=False)\n",
       "            (key): Linear(in_features=768, out_features=768, bias=False)\n",
       "            (value): Linear(in_features=768, out_features=768, bias=False)\n",
       "            (output): Linear(in_features=768, out_features=768, bias=False)\n",
       "          )\n",
       "          (layer_norm): Pix2StructLayerNorm()\n",
       "          (dropout): Dropout(p=0.1, inplace=False)\n",
       "        )\n",
       "        (encoder_decoder_attention): Pix2StructTextLayerCrossAttention(\n",
       "          (attention): Pix2StructTextAttention(\n",
       "            (query): Linear(in_features=768, out_features=768, bias=False)\n",
       "            (key): Linear(in_features=768, out_features=768, bias=False)\n",
       "            (value): Linear(in_features=768, out_features=768, bias=False)\n",
       "            (output): Linear(in_features=768, out_features=768, bias=False)\n",
       "          )\n",
       "          (layer_norm): Pix2StructLayerNorm()\n",
       "          (dropout): Dropout(p=0.1, inplace=False)\n",
       "        )\n",
       "        (mlp): Pix2StructTextLayerFF(\n",
       "          (DenseReluDense): Pix2StructTextDenseGatedActDense(\n",
       "            (wi_0): Linear(in_features=768, out_features=2048, bias=False)\n",
       "            (wi_1): Linear(in_features=768, out_features=2048, bias=False)\n",
       "            (wo): Linear(in_features=2048, out_features=768, bias=False)\n",
       "            (dropout): Dropout(p=0.1, inplace=False)\n",
       "            (act): NewGELUActivation()\n",
       "          )\n",
       "          (layer_norm): Pix2StructLayerNorm()\n",
       "          (dropout): Dropout(p=0.1, inplace=False)\n",
       "        )\n",
       "      )\n",
       "    )\n",
       "    (final_layer_norm): Pix2StructLayerNorm()\n",
       "    (dropout): Dropout(p=0.1, inplace=False)\n",
       "    (lm_head): Linear(in_features=768, out_features=50244, bias=False)\n",
       "  )\n",
       ")"
      ]
     },
     "execution_count": 7,
     "metadata": {},
     "output_type": "execute_result"
    }
   ],
   "source": [
    "deplot_model"
   ]
  },
  {
   "cell_type": "code",
   "execution_count": 8,
   "id": "457c124b",
   "metadata": {
    "execution": {
     "iopub.execute_input": "2023-06-03T20:05:50.186977Z",
     "iopub.status.busy": "2023-06-03T20:05:50.186622Z",
     "iopub.status.idle": "2023-06-03T20:05:50.193372Z",
     "shell.execute_reply": "2023-06-03T20:05:50.192371Z"
    },
    "papermill": {
     "duration": 0.017045,
     "end_time": "2023-06-03T20:05:50.195727",
     "exception": false,
     "start_time": "2023-06-03T20:05:50.178682",
     "status": "completed"
    },
    "tags": []
   },
   "outputs": [
    {
     "data": {
      "text/plain": [
       "Pix2StructProcessor:\n",
       "- image_processor: Pix2StructImageProcessor {\n",
       "  \"do_convert_rgb\": true,\n",
       "  \"do_normalize\": true,\n",
       "  \"image_processor_type\": \"Pix2StructImageProcessor\",\n",
       "  \"is_vqa\": true,\n",
       "  \"max_patches\": 2048,\n",
       "  \"patch_size\": {\n",
       "    \"height\": 16,\n",
       "    \"width\": 16\n",
       "  },\n",
       "  \"processor_class\": \"Pix2StructProcessor\"\n",
       "}\n",
       "\n",
       "- tokenizer: T5TokenizerFast(name_or_path='/kaggle/input/google-deplot-model', vocab_size=50344, model_max_length=1000000000000000019884624838656, is_fast=True, padding_side='right', truncation_side='right', special_tokens={'eos_token': '</s>', 'unk_token': '<unk>', 'pad_token': '<pad>', 'additional_special_tokens': ['<extra_id_0>', '<extra_id_1>', '<extra_id_2>', '<extra_id_3>', '<extra_id_4>', '<extra_id_5>', '<extra_id_6>', '<extra_id_7>', '<extra_id_8>', '<extra_id_9>', '<extra_id_10>', '<extra_id_11>', '<extra_id_12>', '<extra_id_13>', '<extra_id_14>', '<extra_id_15>', '<extra_id_16>', '<extra_id_17>', '<extra_id_18>', '<extra_id_19>', '<extra_id_20>', '<extra_id_21>', '<extra_id_22>', '<extra_id_23>', '<extra_id_24>', '<extra_id_25>', '<extra_id_26>', '<extra_id_27>', '<extra_id_28>', '<extra_id_29>', '<extra_id_30>', '<extra_id_31>', '<extra_id_32>', '<extra_id_33>', '<extra_id_34>', '<extra_id_35>', '<extra_id_36>', '<extra_id_37>', '<extra_id_38>', '<extra_id_39>', '<extra_id_40>', '<extra_id_41>', '<extra_id_42>', '<extra_id_43>', '<extra_id_44>', '<extra_id_45>', '<extra_id_46>', '<extra_id_47>', '<extra_id_48>', '<extra_id_49>', '<extra_id_50>', '<extra_id_51>', '<extra_id_52>', '<extra_id_53>', '<extra_id_54>', '<extra_id_55>', '<extra_id_56>', '<extra_id_57>', '<extra_id_58>', '<extra_id_59>', '<extra_id_60>', '<extra_id_61>', '<extra_id_62>', '<extra_id_63>', '<extra_id_64>', '<extra_id_65>', '<extra_id_66>', '<extra_id_67>', '<extra_id_68>', '<extra_id_69>', '<extra_id_70>', '<extra_id_71>', '<extra_id_72>', '<extra_id_73>', '<extra_id_74>', '<extra_id_75>', '<extra_id_76>', '<extra_id_77>', '<extra_id_78>', '<extra_id_79>', '<extra_id_80>', '<extra_id_81>', '<extra_id_82>', '<extra_id_83>', '<extra_id_84>', '<extra_id_85>', '<extra_id_86>', '<extra_id_87>', '<extra_id_88>', '<extra_id_89>', '<extra_id_90>', '<extra_id_91>', '<extra_id_92>', '<extra_id_93>', '<extra_id_94>', '<extra_id_95>', '<extra_id_96>', '<extra_id_97>', '<extra_id_98>', '<extra_id_99>']}, clean_up_tokenization_spaces=True)"
      ]
     },
     "execution_count": 8,
     "metadata": {},
     "output_type": "execute_result"
    }
   ],
   "source": [
    "processor"
   ]
  },
  {
   "cell_type": "code",
   "execution_count": 9,
   "id": "6ad6d847",
   "metadata": {
    "execution": {
     "iopub.execute_input": "2023-06-03T20:05:50.211342Z",
     "iopub.status.busy": "2023-06-03T20:05:50.210980Z",
     "iopub.status.idle": "2023-06-03T20:05:50.216519Z",
     "shell.execute_reply": "2023-06-03T20:05:50.215333Z"
    },
    "papermill": {
     "duration": 0.016393,
     "end_time": "2023-06-03T20:05:50.219128",
     "exception": false,
     "start_time": "2023-06-03T20:05:50.202735",
     "status": "completed"
    },
    "tags": []
   },
   "outputs": [],
   "source": [
    "def deplot_inference(image_path, visualize):\n",
    "    deplot_output=deplot(image_path, deplot_model, processor, device, visualize)\n",
    "    return display_deplot_output(deplot_output, visualize)"
   ]
  },
  {
   "cell_type": "markdown",
   "id": "03f7ce21",
   "metadata": {
    "papermill": {
     "duration": 0.006649,
     "end_time": "2023-06-03T20:05:50.232897",
     "exception": false,
     "start_time": "2023-06-03T20:05:50.226248",
     "status": "completed"
    },
    "tags": []
   },
   "source": [
    "# Classification Model"
   ]
  },
  {
   "cell_type": "code",
   "execution_count": 10,
   "id": "d4876349",
   "metadata": {
    "execution": {
     "iopub.execute_input": "2023-06-03T20:05:50.248899Z",
     "iopub.status.busy": "2023-06-03T20:05:50.247941Z",
     "iopub.status.idle": "2023-06-03T20:05:50.623861Z",
     "shell.execute_reply": "2023-06-03T20:05:50.622824Z"
    },
    "papermill": {
     "duration": 0.386601,
     "end_time": "2023-06-03T20:05:50.626477",
     "exception": false,
     "start_time": "2023-06-03T20:05:50.239876",
     "status": "completed"
    },
    "tags": []
   },
   "outputs": [],
   "source": [
    "import torch\n",
    "import torchvision\n",
    "import torch.utils.data\n",
    "from torchvision import transforms\n",
    "import torch.nn as nn\n",
    "import torch.nn.functional as F\n",
    "import torch.optim as optim\n",
    "from torch.optim import lr_scheduler\n",
    "\n",
    "import cv2\n",
    "import numpy as np"
   ]
  },
  {
   "cell_type": "code",
   "execution_count": 11,
   "id": "1b3a7d6f",
   "metadata": {
    "execution": {
     "iopub.execute_input": "2023-06-03T20:05:50.641378Z",
     "iopub.status.busy": "2023-06-03T20:05:50.640690Z",
     "iopub.status.idle": "2023-06-03T20:05:50.646259Z",
     "shell.execute_reply": "2023-06-03T20:05:50.645321Z"
    },
    "papermill": {
     "duration": 0.015411,
     "end_time": "2023-06-03T20:05:50.648324",
     "exception": false,
     "start_time": "2023-06-03T20:05:50.632913",
     "status": "completed"
    },
    "tags": []
   },
   "outputs": [],
   "source": [
    "label_map = {'dot': 0, 'horizontal_bar' : 1, 'vertical_bar': 2, 'line': 3, 'scatter': 4}\n",
    "label_idx_to_classname = {v: k for k, v in label_map.items()}"
   ]
  },
  {
   "cell_type": "code",
   "execution_count": 12,
   "id": "80def61d",
   "metadata": {
    "execution": {
     "iopub.execute_input": "2023-06-03T20:05:50.663276Z",
     "iopub.status.busy": "2023-06-03T20:05:50.662007Z",
     "iopub.status.idle": "2023-06-03T20:05:52.225907Z",
     "shell.execute_reply": "2023-06-03T20:05:52.224953Z"
    },
    "papermill": {
     "duration": 1.57367,
     "end_time": "2023-06-03T20:05:52.228387",
     "exception": false,
     "start_time": "2023-06-03T20:05:50.654717",
     "status": "completed"
    },
    "tags": []
   },
   "outputs": [
    {
     "name": "stderr",
     "output_type": "stream",
     "text": [
      "/opt/conda/lib/python3.10/site-packages/torchvision/models/_utils.py:208: UserWarning: The parameter 'pretrained' is deprecated since 0.13 and may be removed in the future, please use 'weights' instead.\n",
      "  warnings.warn(\n",
      "/opt/conda/lib/python3.10/site-packages/torchvision/models/_utils.py:223: UserWarning: Arguments other than a weight enum or `None` for 'weights' are deprecated since 0.13 and may be removed in the future. The current behavior is equivalent to passing `weights=None`.\n",
      "  warnings.warn(msg)\n"
     ]
    },
    {
     "data": {
      "text/plain": [
       "<All keys matched successfully>"
      ]
     },
     "execution_count": 12,
     "metadata": {},
     "output_type": "execute_result"
    }
   ],
   "source": [
    "classification_model = torchvision.models.resnet50(pretrained=False)\n",
    "\n",
    "num_features = classification_model.fc.in_features\n",
    "classification_model.fc = nn.Linear(num_features, 5)\n",
    "device = torch.device(\"cuda:0\" if torch.cuda.is_available() else \"cpu\")\n",
    "classification_model = classification_model.to(device)\n",
    "classification_model.eval()\n",
    "\n",
    "state_dict = torch.load(\"/kaggle/input/simple-submission-classification-task-training/Benetech _ResNet50_fold0.pth\")\n",
    "classification_model.load_state_dict(state_dict)"
   ]
  },
  {
   "cell_type": "code",
   "execution_count": 13,
   "id": "4711cd06",
   "metadata": {
    "execution": {
     "iopub.execute_input": "2023-06-03T20:05:52.243494Z",
     "iopub.status.busy": "2023-06-03T20:05:52.242485Z",
     "iopub.status.idle": "2023-06-03T20:05:52.250013Z",
     "shell.execute_reply": "2023-06-03T20:05:52.249062Z"
    },
    "papermill": {
     "duration": 0.017196,
     "end_time": "2023-06-03T20:05:52.252126",
     "exception": false,
     "start_time": "2023-06-03T20:05:52.234930",
     "status": "completed"
    },
    "tags": []
   },
   "outputs": [],
   "source": [
    "val_transforms = transforms.Compose(\n",
    "    [transforms.ToTensor(),\n",
    "     transforms.Normalize((0.5, 0.5, 0.5), (0.5, 0.5, 0.5))])\n",
    "\n",
    "def classification_inference(image_path):\n",
    "    img = cv2.imread(image_path)\n",
    "    img = cv2.cvtColor(img,cv2.COLOR_BGR2RGB)\n",
    "    img = cv2.resize(img,(500,300))\n",
    "    img = img.astype(np.float32)/255.0\n",
    "    img = val_transforms(img)\n",
    "    \n",
    "#     print(img.shape)\n",
    "    \n",
    "#     inp = torch.stack([img.permute(1, 2, 0)]).cuda()\n",
    "    inp = torch.stack([img]).cuda()\n",
    "    out = classification_model(inp).detach().cpu().numpy()\n",
    "    return label_idx_to_classname[np.argmax(out)]"
   ]
  },
  {
   "cell_type": "markdown",
   "id": "dbc85cf2",
   "metadata": {
    "papermill": {
     "duration": 0.006207,
     "end_time": "2023-06-03T20:05:52.264880",
     "exception": false,
     "start_time": "2023-06-03T20:05:52.258673",
     "status": "completed"
    },
    "tags": []
   },
   "source": [
    "# Inference pipeline"
   ]
  },
  {
   "cell_type": "code",
   "execution_count": 14,
   "id": "f7b2f081",
   "metadata": {
    "execution": {
     "iopub.execute_input": "2023-06-03T20:05:52.279064Z",
     "iopub.status.busy": "2023-06-03T20:05:52.278699Z",
     "iopub.status.idle": "2023-06-03T20:07:36.920852Z",
     "shell.execute_reply": "2023-06-03T20:07:36.919847Z"
    },
    "papermill": {
     "duration": 104.653153,
     "end_time": "2023-06-03T20:07:36.924301",
     "exception": false,
     "start_time": "2023-06-03T20:05:52.271148",
     "status": "completed"
    },
    "tags": []
   },
   "outputs": [
    {
     "name": "stderr",
     "output_type": "stream",
     "text": [
      " 20%|██        | 1/5 [00:24<01:37, 24.43s/it]"
     ]
    },
    {
     "name": "stdout",
     "output_type": "stream",
     "text": [
      "Exception Connection error, and we cannot find the requested files in the disk cache. Please try again or make sure your Internet connection is on.\n"
     ]
    },
    {
     "name": "stderr",
     "output_type": "stream",
     "text": [
      " 40%|████      | 2/5 [00:44<01:05, 21.85s/it]"
     ]
    },
    {
     "name": "stdout",
     "output_type": "stream",
     "text": [
      "Exception Connection error, and we cannot find the requested files in the disk cache. Please try again or make sure your Internet connection is on.\n"
     ]
    },
    {
     "name": "stderr",
     "output_type": "stream",
     "text": [
      " 60%|██████    | 3/5 [01:04<00:42, 21.03s/it]"
     ]
    },
    {
     "name": "stdout",
     "output_type": "stream",
     "text": [
      "Exception Connection error, and we cannot find the requested files in the disk cache. Please try again or make sure your Internet connection is on.\n"
     ]
    },
    {
     "name": "stderr",
     "output_type": "stream",
     "text": [
      " 80%|████████  | 4/5 [01:24<00:20, 20.64s/it]"
     ]
    },
    {
     "name": "stdout",
     "output_type": "stream",
     "text": [
      "Exception Connection error, and we cannot find the requested files in the disk cache. Please try again or make sure your Internet connection is on.\n"
     ]
    },
    {
     "name": "stderr",
     "output_type": "stream",
     "text": [
      "100%|██████████| 5/5 [01:44<00:00, 20.92s/it]"
     ]
    },
    {
     "name": "stdout",
     "output_type": "stream",
     "text": [
      "Exception Connection error, and we cannot find the requested files in the disk cache. Please try again or make sure your Internet connection is on.\n"
     ]
    },
    {
     "name": "stderr",
     "output_type": "stream",
     "text": [
      "\n"
     ]
    }
   ],
   "source": [
    "import os\n",
    "from tqdm import tqdm\n",
    "import math\n",
    "\n",
    "IMAGE_FOLDER = \"/kaggle/input/benetech-making-graphs-accessible/test/images\"\n",
    "\n",
    "all_ids = []\n",
    "all_values = []\n",
    "all_chart_types = []\n",
    "\n",
    "for image_name in tqdm(os.listdir(IMAGE_FOLDER)):\n",
    "    if \".jpg\" not in image_name:\n",
    "        continue\n",
    "    try:\n",
    "        image_path = os.path.join(IMAGE_FOLDER, image_name)\n",
    "        graph_type = classification_inference(image_path)\n",
    "        inference_df = deplot_inference(image_path, False)\n",
    "        \n",
    "        x_values = inference_df[inference_df.columns[0]].values\n",
    "        y_values = inference_df[inference_df.columns[1]].values\n",
    "        \n",
    "        # check value type for each graph type\n",
    "        if graph_type in [\"horizontal_bar\", \"vertical_bar\", \"line\", \"dot\", \"scatter\"]:\n",
    "            # x is categorical, y is numerical\n",
    "            formatted_y_values = []\n",
    "            for v in y_values:\n",
    "                try:\n",
    "                    float(v)\n",
    "                    if math.isnan(float(v)):\n",
    "                        formatted_y_values.append(0)\n",
    "                    else:\n",
    "                        formatted_y_values.append(v)\n",
    "                except:\n",
    "                    formatted_y_values.append(0)\n",
    "                    \n",
    "            y_values = formatted_y_values\n",
    "        \n",
    "        if graph_type in [\"dot\", \"scatter\"]:\n",
    "            # for dot graph, x could be categorical as well as numerical, how to handle this?\n",
    "            # just leave all the value be numerical for now\n",
    "\n",
    "            formatted_x_values = []\n",
    "            for v in x_values:\n",
    "                try:\n",
    "                    float(v)\n",
    "                    if math.isnan(float(v)):\n",
    "                        formatted_x_values.append(0)\n",
    "                    else:\n",
    "                        formatted_x_values.append(v)\n",
    "                except:\n",
    "                    formatted_x_values.append(0)\n",
    "                    \n",
    "            x_values = formatted_x_values\n",
    "            \n",
    "        \n",
    "        length = min(len(x_values), len(y_values))\n",
    "        x_values = \";\".join([str(v).strip() for v in x_values][:length])\n",
    "        y_values = \";\".join([str(v).strip() for v in y_values][:length])\n",
    "    except Exception as e:\n",
    "        print(\"Exception\", e)\n",
    "        graph_type = \"line\"\n",
    "        x_values = \"0;0\"\n",
    "        y_values = \"0;0\"\n",
    "    \n",
    "    image_id = image_name.split(\".\")[0]\n",
    "\n",
    "    all_ids.append(image_id + \"_x\")\n",
    "    all_values.append(x_values)\n",
    "    \n",
    "    all_ids.append(image_id + \"_y\")\n",
    "    all_values.append(y_values)\n",
    "    \n",
    "    all_chart_types.extend([graph_type, graph_type])"
   ]
  },
  {
   "cell_type": "code",
   "execution_count": 15,
   "id": "e3ac0240",
   "metadata": {
    "execution": {
     "iopub.execute_input": "2023-06-03T20:07:36.941203Z",
     "iopub.status.busy": "2023-06-03T20:07:36.940851Z",
     "iopub.status.idle": "2023-06-03T20:07:36.951670Z",
     "shell.execute_reply": "2023-06-03T20:07:36.950772Z"
    },
    "papermill": {
     "duration": 0.021308,
     "end_time": "2023-06-03T20:07:36.953627",
     "exception": false,
     "start_time": "2023-06-03T20:07:36.932319",
     "status": "completed"
    },
    "tags": []
   },
   "outputs": [],
   "source": [
    "submission_df = pd.DataFrame({\n",
    "    \"id\": all_ids,\n",
    "    \"data_series\": all_values,\n",
    "    \"chart_type\": all_chart_types\n",
    "})\n",
    "\n",
    "submission_df.to_csv(\"submission.csv\", index=False)\n"
   ]
  },
  {
   "cell_type": "code",
   "execution_count": 16,
   "id": "2b98747f",
   "metadata": {
    "execution": {
     "iopub.execute_input": "2023-06-03T20:07:36.970515Z",
     "iopub.status.busy": "2023-06-03T20:07:36.969650Z",
     "iopub.status.idle": "2023-06-03T20:07:36.985236Z",
     "shell.execute_reply": "2023-06-03T20:07:36.984308Z"
    },
    "papermill": {
     "duration": 0.026092,
     "end_time": "2023-06-03T20:07:36.987330",
     "exception": false,
     "start_time": "2023-06-03T20:07:36.961238",
     "status": "completed"
    },
    "tags": []
   },
   "outputs": [
    {
     "data": {
      "text/html": [
       "<div>\n",
       "<style scoped>\n",
       "    .dataframe tbody tr th:only-of-type {\n",
       "        vertical-align: middle;\n",
       "    }\n",
       "\n",
       "    .dataframe tbody tr th {\n",
       "        vertical-align: top;\n",
       "    }\n",
       "\n",
       "    .dataframe thead th {\n",
       "        text-align: right;\n",
       "    }\n",
       "</style>\n",
       "<table border=\"1\" class=\"dataframe\">\n",
       "  <thead>\n",
       "    <tr style=\"text-align: right;\">\n",
       "      <th></th>\n",
       "      <th>id</th>\n",
       "      <th>data_series</th>\n",
       "      <th>chart_type</th>\n",
       "    </tr>\n",
       "  </thead>\n",
       "  <tbody>\n",
       "    <tr>\n",
       "      <th>0</th>\n",
       "      <td>000b92c3b098_x</td>\n",
       "      <td>0;0</td>\n",
       "      <td>line</td>\n",
       "    </tr>\n",
       "    <tr>\n",
       "      <th>1</th>\n",
       "      <td>000b92c3b098_y</td>\n",
       "      <td>0;0</td>\n",
       "      <td>line</td>\n",
       "    </tr>\n",
       "    <tr>\n",
       "      <th>2</th>\n",
       "      <td>01b45b831589_x</td>\n",
       "      <td>0;0</td>\n",
       "      <td>line</td>\n",
       "    </tr>\n",
       "    <tr>\n",
       "      <th>3</th>\n",
       "      <td>01b45b831589_y</td>\n",
       "      <td>0;0</td>\n",
       "      <td>line</td>\n",
       "    </tr>\n",
       "    <tr>\n",
       "      <th>4</th>\n",
       "      <td>00f5404753cf_x</td>\n",
       "      <td>0;0</td>\n",
       "      <td>line</td>\n",
       "    </tr>\n",
       "    <tr>\n",
       "      <th>5</th>\n",
       "      <td>00f5404753cf_y</td>\n",
       "      <td>0;0</td>\n",
       "      <td>line</td>\n",
       "    </tr>\n",
       "    <tr>\n",
       "      <th>6</th>\n",
       "      <td>00dcf883a459_x</td>\n",
       "      <td>0;0</td>\n",
       "      <td>line</td>\n",
       "    </tr>\n",
       "    <tr>\n",
       "      <th>7</th>\n",
       "      <td>00dcf883a459_y</td>\n",
       "      <td>0;0</td>\n",
       "      <td>line</td>\n",
       "    </tr>\n",
       "    <tr>\n",
       "      <th>8</th>\n",
       "      <td>007a18eb4e09_x</td>\n",
       "      <td>0;0</td>\n",
       "      <td>line</td>\n",
       "    </tr>\n",
       "    <tr>\n",
       "      <th>9</th>\n",
       "      <td>007a18eb4e09_y</td>\n",
       "      <td>0;0</td>\n",
       "      <td>line</td>\n",
       "    </tr>\n",
       "  </tbody>\n",
       "</table>\n",
       "</div>"
      ],
      "text/plain": [
       "               id data_series chart_type\n",
       "0  000b92c3b098_x         0;0       line\n",
       "1  000b92c3b098_y         0;0       line\n",
       "2  01b45b831589_x         0;0       line\n",
       "3  01b45b831589_y         0;0       line\n",
       "4  00f5404753cf_x         0;0       line\n",
       "5  00f5404753cf_y         0;0       line\n",
       "6  00dcf883a459_x         0;0       line\n",
       "7  00dcf883a459_y         0;0       line\n",
       "8  007a18eb4e09_x         0;0       line\n",
       "9  007a18eb4e09_y         0;0       line"
      ]
     },
     "metadata": {},
     "output_type": "display_data"
    }
   ],
   "source": [
    "display(submission_df)"
   ]
  }
 ],
 "metadata": {
  "kernelspec": {
   "display_name": "Python 3",
   "language": "python",
   "name": "python3"
  },
  "language_info": {
   "codemirror_mode": {
    "name": "ipython",
    "version": 3
   },
   "file_extension": ".py",
   "mimetype": "text/x-python",
   "name": "python",
   "nbconvert_exporter": "python",
   "pygments_lexer": "ipython3",
   "version": "3.10.10"
  },
  "papermill": {
   "default_parameters": {},
   "duration": 164.856916,
   "end_time": "2023-06-03T20:07:39.861697",
   "environment_variables": {},
   "exception": null,
   "input_path": "__notebook__.ipynb",
   "output_path": "__notebook__.ipynb",
   "parameters": {},
   "start_time": "2023-06-03T20:04:55.004781",
   "version": "2.4.0"
  }
 },
 "nbformat": 4,
 "nbformat_minor": 5
}
